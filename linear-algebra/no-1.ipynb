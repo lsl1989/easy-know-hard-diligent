{
 "cells": [
  {
   "cell_type": "markdown",
   "id": "a526cc09-f39a-4822-a6ec-15c4938c94b4",
   "metadata": {},
   "source": [
    "\n",
    "# 线性代数基础知识 （1）\n",
    "\n",
    "## 行列式定义\n",
    "1. 什么是行列式\n",
    "\n",
    "矩阵A 的行列式记为det(A)\n",
    "\n",
    "$$\n",
    "\\left|\n",
    "\\begin{matrix}\n",
    " a_11 & a_12 \\\\\n",
    " a_21 & a_22 \\\\\n",
    "\\end{matrix} \n",
    "\\right|\n",
    "$$\n",
    "\n",
    "\n",
    " $$\n",
    " \\left[\n",
    "\\begin{matrix}\n",
    " 1      & 2      & \\cdots & 4      \\\\\n",
    " 7      & 6      & \\cdots & 5      \\\\\n",
    " \\vdots & \\vdots & \\ddots & \\vdots \\\\\n",
    " 8      & 9      & \\cdots & 0      \\\\\n",
    "\\end{matrix}\n",
    "\\right]\n",
    "$$\n",
    "\n",
    "\n",
    "\n",
    "## 行列式基本性质\n",
    "\n",
    "* 行列式 D 按行按列转置，记为  $D^T$, 行列式与转制后的行列式值相等， 即$ D = D^T $\n",
    "    - 即行列式中，所有对行生效的性质，对列也同样生效\n",
    "* 行列式的某一行乘以系数k，等于行列式的值乘以该系数k\n",
    "    - 推论 若行列式某一行全为0，则行列式的值等于0\n",
    "* 行列式若某一行的元素都是两数之和，则行列式可按改行拆为两个行列式之和，（即改行换为两行，其他各行保持不变）\n",
    "* 行列式两行互换，行列式变号（乘以-1）\n",
    "* 行列式两行相同，则行列式等于0\n",
    "    - 若行列式中有两行成比例，则该行列式也等于0 （同性质2可一同推导出）\n",
    "* 将行列式的某一行乘以一个系数后加到另一行对应的元素中，行列式不变。（通常用此法将一个行列式转为倒三角形，然后将对角线的元素相乘得到行列式的值）\n",
    "\n",
    "\n",
    "\n"
   ]
  },
  {
   "cell_type": "code",
   "execution_count": null,
   "metadata": {},
   "outputs": [],
   "source": []
  }
 ],
 "metadata": {
  "kernelspec": {
   "name": "python388jvsc74a57bd09f68c09964c75d67295e7a83be871d0cf8dd1710d2f844cef085fc8046a56d03",
   "display_name": "Python 3.8.8 64-bit ('base': conda)"
  },
  "language_info": {
   "codemirror_mode": {
    "name": "ipython",
    "version": 3
   },
   "file_extension": ".py",
   "mimetype": "text/x-python",
   "name": "python",
   "nbconvert_exporter": "python",
   "pygments_lexer": "ipython3",
   "version": "3.8.8"
  }
 },
 "nbformat": 4,
 "nbformat_minor": 5
}